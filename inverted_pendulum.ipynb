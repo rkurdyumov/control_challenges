{
  "nbformat": 4,
  "nbformat_minor": 0,
  "metadata": {
    "colab": {
      "name": "inverted_pendulum.ipynb",
      "provenance": [],
      "authorship_tag": "ABX9TyNy7oMgn+B4KA1WFmIYqgq/",
      "include_colab_link": true
    },
    "kernelspec": {
      "name": "python3",
      "display_name": "Python 3"
    }
  },
  "cells": [
    {
      "cell_type": "markdown",
      "metadata": {
        "id": "view-in-github",
        "colab_type": "text"
      },
      "source": [
        "<a href=\"https://colab.research.google.com/github/rkurdyumov/control_challenges/blob/main/inverted_pendulum.ipynb\" target=\"_parent\"><img src=\"https://colab.research.google.com/assets/colab-badge.svg\" alt=\"Open In Colab\"/></a>"
      ]
    },
    {
      "cell_type": "code",
      "metadata": {
        "id": "YWkZuUR3BJtA"
      },
      "source": [
        "!pip install slycot   # Install python-control dependencies for Colab.\r\n",
        "!pip install control"
      ],
      "execution_count": null,
      "outputs": []
    },
    {
      "cell_type": "code",
      "metadata": {
        "id": "zOWiH5srBB0K"
      },
      "source": [
        "import numpy as np\r\n",
        "import matplotlib.pyplot as plt\r\n",
        "import control\r\n",
        "#from control.matlab import *    # MATLAB-like functions\r\n",
        "#%matplotlib inline"
      ],
      "execution_count": 3,
      "outputs": []
    },
    {
      "cell_type": "code",
      "metadata": {
        "colab": {
          "base_uri": "https://localhost:8080/"
        },
        "id": "rthTpWDSCF98",
        "outputId": "ef0fb7e7-9f0e-4322-cbaf-4e40653281e0"
      },
      "source": [
        "# Inverted pendulum parameters, taken from:\r\n",
        "# https://github.com/janismac/ControlChallenges/blob/gh-pages/js/models/SinglePendulum.js\r\n",
        "m0 = 10.0 # cart mass (kg)\r\n",
        "m1 = 0.5  # pendulum mass (kg)\r\n",
        "g = 9.81  # (m/s^2)\r\n",
        "L = 1.0   # pendulum length (m)\r\n",
        "\r\n",
        "# State space representation of the inverted pendulum on a cart, with state \r\n",
        "# vector [dx0, ddx0, dtheta, ddtheta].\r\n",
        "A = np.array([\r\n",
        "    [0, 1,  0,               0],\r\n",
        "    [0, 0, -m1*g/(m0+2*m1),  0],\r\n",
        "    [0, 0,  0,               1],\r\n",
        "    [0, 0, (m0+m1)*g/(m0*L), 0]])\r\n",
        "\r\n",
        "B = np.array([\r\n",
        "    [0],\r\n",
        "    [1/(m0+2*m1)],\r\n",
        "    [0],\r\n",
        "    [-1/(m0*L)]])\r\n",
        "\r\n",
        "# Q assigns weights to errors in each state variable.\r\n",
        "#Q = np.diag([1e5, 1e4, 1e6, 1e5]) # Faster, but exceeds Fmax = 50N.\r\n",
        "Q = np.diag([1e4, 1e3, 1e5, 1e4])  # Does not exceed Fmax = 50N.\r\n",
        "# R assigns a weight to the control effort.  Since the relative value of Q and\r\n",
        "# R determines the error/effort tradeoff, scale the Q values and leave R as 1.\r\n",
        "R = 1\r\n",
        "\r\n",
        "K, S, E = control.lqr(A, B, Q, R)\r\n",
        "print(K)"
      ],
      "execution_count": 49,
      "outputs": [
        {
          "output_type": "stream",
          "text": [
            "[[-100.         -139.04260243 -920.48323787 -291.98596775]]\n"
          ],
          "name": "stdout"
        }
      ]
    },
    {
      "cell_type": "code",
      "metadata": {
        "id": "CnYJ_Dp5IUOd"
      },
      "source": [
        ""
      ],
      "execution_count": null,
      "outputs": []
    }
  ]
}